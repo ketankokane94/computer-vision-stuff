{
 "cells": [
  {
   "cell_type": "code",
   "execution_count": 1,
   "metadata": {},
   "outputs": [],
   "source": [
    "import cv2\n",
    "import numpy as np"
   ]
  },
  {
   "cell_type": "code",
   "execution_count": 4,
   "metadata": {},
   "outputs": [],
   "source": [
    "img = np.array([10, 8, -2, 0, 1,6,3,5,3,2,-4,11,7,-1,7,1]).reshape(4,4)\n",
    "kernel = np.array([-2, 3, -1, 4, -1, 2, 0, 5, 3]).reshape(3,3)"
   ]
  },
  {
   "cell_type": "code",
   "execution_count": 5,
   "metadata": {},
   "outputs": [],
   "source": [
    "kernel = np.array([0.077847, 0.123317, 0.077847, 0.123317, 0.195346, 0.123317, 0.077847, 0.123317, 0.077847]).reshape(3,3)"
   ]
  },
  {
   "cell_type": "code",
   "execution_count": 6,
   "metadata": {},
   "outputs": [
    {
     "data": {
      "text/plain": [
       "array([[10,  8, -2,  0],\n",
       "       [ 1,  6,  3,  5],\n",
       "       [ 3,  2, -4, 11],\n",
       "       [ 7, -1,  7,  1]])"
      ]
     },
     "execution_count": 6,
     "metadata": {},
     "output_type": "execute_result"
    }
   ],
   "source": [
    "img"
   ]
  },
  {
   "cell_type": "code",
   "execution_count": 9,
   "metadata": {},
   "outputs": [
    {
     "data": {
      "text/plain": [
       "array([[0.077847, 0.123317, 0.077847],\n",
       "       [0.123317, 0.195346, 0.123317],\n",
       "       [0.077847, 0.123317, 0.077847]])"
      ]
     },
     "execution_count": 9,
     "metadata": {},
     "output_type": "execute_result"
    }
   ],
   "source": [
    "kernel"
   ]
  },
  {
   "cell_type": "code",
   "execution_count": 10,
   "metadata": {},
   "outputs": [
    {
     "data": {
      "text/plain": [
       "array([[10, 10,  8, -2,  0,  0],\n",
       "       [10, 10,  8, -2,  0,  0],\n",
       "       [ 1,  1,  6,  3,  5,  5],\n",
       "       [ 3,  3,  2, -4, 11, 11],\n",
       "       [ 7,  7, -1,  7,  1,  1],\n",
       "       [ 7,  7, -1,  7,  1,  1]])"
      ]
     },
     "execution_count": 10,
     "metadata": {},
     "output_type": "execute_result"
    }
   ],
   "source": [
    "pad_img = np.pad(img, 1, mode = 'edge')\n",
    "pad_img"
   ]
  },
  {
   "cell_type": "code",
   "execution_count": 13,
   "metadata": {},
   "outputs": [
    {
     "name": "stdout",
     "output_type": "stream",
     "text": [
      "[[7.475828 5.209906 2.198254 0.837033]\n",
      " [4.452167 3.443443 2.83741  3.708988]\n",
      " [3.20117  2.285206 2.911224 4.997479]\n",
      " [4.196811 2.66642  2.749384 3.829391]]\n"
     ]
    }
   ],
   "source": [
    "img_top_left = 0\n",
    "kernel_bottom_right = kernel.shape[1]\n",
    "result = np.zeros((img.shape[0], img.shape[1]))\n",
    "for row in range(0, img.shape[1]):\n",
    "    for col in range(0, img.shape[1]):\n",
    "        slices_img = pad_img[img_top_left+row : kernel_bottom_right+row, img_top_left+col:kernel_bottom_right+col]\n",
    "        result[row][col] = element_wise_product(slices_img, kernel)\n",
    "print(result)"
   ]
  },
  {
   "cell_type": "code",
   "execution_count": 12,
   "metadata": {},
   "outputs": [],
   "source": [
    "def element_wise_product(a, b ):\n",
    "    return np.sum(a * b)"
   ]
  },
  {
   "cell_type": "code",
   "execution_count": null,
   "metadata": {},
   "outputs": [],
   "source": []
  },
  {
   "cell_type": "code",
   "execution_count": null,
   "metadata": {},
   "outputs": [],
   "source": []
  },
  {
   "cell_type": "code",
   "execution_count": null,
   "metadata": {},
   "outputs": [],
   "source": []
  }
 ],
 "metadata": {
  "kernelspec": {
   "display_name": "Python 3",
   "language": "python",
   "name": "python3"
  },
  "language_info": {
   "codemirror_mode": {
    "name": "ipython",
    "version": 3
   },
   "file_extension": ".py",
   "mimetype": "text/x-python",
   "name": "python",
   "nbconvert_exporter": "python",
   "pygments_lexer": "ipython3",
   "version": "3.7.4"
  }
 },
 "nbformat": 4,
 "nbformat_minor": 4
}
